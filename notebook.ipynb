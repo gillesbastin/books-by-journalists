# a first Jupyter notebook
bnf1945f.final <- read.csv("/Users/basting/Library/Mobile Documents/com~apple~CloudDocs/_Data/BnF/bnf1945f-final.csv")
data <- bnf1945f.final[bnf1945f.final$Format == "Livre",]
dlcxb kxcjb kcxb
